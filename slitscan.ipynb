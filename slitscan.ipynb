{
  "nbformat": 4,
  "nbformat_minor": 0,
  "metadata": {
    "colab": {
      "provenance": [],
      "mount_file_id": "18xry-Mb5ZDTl54Q5XuBWy1i-8244G-9B",
      "authorship_tag": "ABX9TyOcaNgv4plMM5cTq149a2ZN",
      "include_colab_link": true
    },
    "kernelspec": {
      "name": "python3",
      "display_name": "Python 3"
    },
    "language_info": {
      "name": "python"
    }
  },
  "cells": [
    {
      "cell_type": "markdown",
      "metadata": {
        "id": "view-in-github",
        "colab_type": "text"
      },
      "source": [
        "<a href=\"https://colab.research.google.com/github/RintaroFujita/google-colab/blob/main/slitscan.ipynb\" target=\"_parent\"><img src=\"https://colab.research.google.com/assets/colab-badge.svg\" alt=\"Open In Colab\"/></a>"
      ]
    },
    {
      "cell_type": "markdown",
      "source": [
        "切り出し生成\n",
        "\n"
      ],
      "metadata": {
        "id": "ABLAkcO_fbCq"
      }
    },
    {
      "cell_type": "code",
      "execution_count": null,
      "metadata": {
        "colab": {
          "base_uri": "https://localhost:8080/"
        },
        "id": "MmlvZNthY1Ag",
        "outputId": "fa644896-f261-4d7a-f992-fddb348f2b9d"
      },
      "outputs": [
        {
          "output_type": "stream",
          "name": "stdout",
          "text": [
            "Drive already mounted at /content/drive; to attempt to forcibly remount, call drive.mount(\"/content/drive\", force_remount=True).\n"
          ]
        }
      ],
      "source": [
        "from google.colab import drive\n",
        "import os\n",
        "import cv2\n",
        "import numpy as np\n",
        "\n",
        "drive.mount('/content/drive')\n",
        "output_dir = '/content/drive/My Drive/slitscan_output_images/'\n",
        "if not os.path.exists(output_dir):\n",
        "    os.makedirs(output_dir)\n",
        "\n",
        "image_path = '/content/Interaction2024.jpg'\n",
        "image = cv2.imread(image_path)\n",
        "image_height, image_width, _ = image.shape\n",
        "\n",
        "sample1_height, sample1_width = 300, 300\n",
        "sample2_height, sample2_width = 700, 500\n",
        "\n",
        "slit_width = 50\n",
        "hue_shift = 500\n",
        "output_image_number = 1\n",
        "\n",
        "sample1_top = (image_height - sample1_height) // 2\n",
        "sample1_left = (image_width - sample1_width) // 2\n",
        "\n",
        "sample2_top = (image_height - sample2_height) // 2\n",
        "sample2_left = (image_width - sample2_width) // 2\n",
        "\n",
        "output_image = np.zeros_like(image)\n",
        "\n",
        "for i in range(300):\n",
        "    sample1_left += 20\n",
        "    sample2_left += 20\n",
        "\n",
        "    sample1 = image[sample1_top:sample1_top + sample1_height, sample1_left:sample1_left + sample1_width]\n",
        "    sample2 = image[sample2_top:sample2_top + sample2_height, sample2_left:sample2_left + sample2_width]\n",
        "\n",
        "    for sample, (top, left) in zip([sample1, sample2], [(0, 0), (sample2_top - sample1_top, sample2_left - sample1_left)]):\n",
        "        height, width, _ = sample.shape\n",
        "        for y in range(height):\n",
        "            for x in range(width):\n",
        "                if x % slit_width == 0:\n",
        "                    hue = (sample[y, x, 0] + hue_shift) % 50\n",
        "                    saturation = sample[y, x, 1]\n",
        "                    value = sample[y, x, 2]\n",
        "                    output_image[top + y, left + x] = np.array([hue, saturation, value])\n",
        "                else:\n",
        "                    output_image[top + y, left + x] = sample[y, x]\n",
        "\n",
        "    output_file_path = os.path.join(output_dir, 'output_image_{}.jpg'.format(output_image_number))\n",
        "    cv2.imwrite(output_file_path, output_image)\n",
        "    output_image_number += 1\n"
      ]
    },
    {
      "cell_type": "code",
      "source": [
        "import cv2\n",
        "import numpy as np\n",
        "import os\n",
        "\n",
        "# Mount Google Drive\n",
        "from google.colab import drive\n",
        "drive.mount('/content/drive')\n",
        "\n",
        "# Paths and directories\n",
        "image_path = '/content/drive/MyDrive/2024桜/7T0A0964.JPG'\n",
        "output_dir = '/content/drive/My Drive/slitscan_output_images/'\n",
        "if not os.path.exists(output_dir):\n",
        "    os.makedirs(output_dir)\n",
        "\n",
        "# Load image\n",
        "image = cv2.imread(image_path)\n",
        "if image is None:\n",
        "    raise ValueError(f\"Could not load image at {image_path}\")\n",
        "\n",
        "image_height, image_width, _ = image.shape\n",
        "\n",
        "# Parameters for the samples\n",
        "sample1_height, sample1_width = 300, 300\n",
        "sample2_height, sample2_width = 700, 500\n",
        "slit_width = 50\n",
        "hue_shift = 500\n",
        "output_image_number = 1\n",
        "\n",
        "# Initial positions for samples\n",
        "sample1_top = (image_height - sample1_height) // 2\n",
        "sample1_left = (image_width - sample1_width) // 2\n",
        "sample2_top = (image_height - sample2_height) // 2\n",
        "sample2_left = (image_width - sample2_width) // 2\n",
        "\n",
        "# Output image\n",
        "output_image = np.zeros_like(image)\n",
        "\n",
        "# Loop to create multiple frames with slit-scan effect\n",
        "for i in range(300):\n",
        "    sample1_left = (sample1_left + 20) % image_width\n",
        "    sample2_left = (sample2_left + 20) % image_width\n",
        "\n",
        "    sample1 = image[sample1_top:sample1_top + sample1_height, sample1_left:sample1_left + sample1_width]\n",
        "    sample2 = image[sample2_top:sample2_top + sample2_height, sample2_left:sample2_left + sample2_width]\n",
        "\n",
        "    for sample, (top, left) in zip([sample1, sample2], [(0, 0), (sample2_top - sample1_top, sample2_left - sample1_left)]):\n",
        "        height, width, _ = sample.shape\n",
        "        for y in range(height):\n",
        "            for x in range(width):\n",
        "                if x % slit_width == 0:\n",
        "                    hue = (sample[y, x, 0] + hue_shift) % 180  # Correct hue range\n",
        "                    saturation = sample[y, x, 1]\n",
        "                    value = sample[y, x, 2]\n",
        "                    output_image[top + y, left + x] = np.array([hue, saturation, value])\n",
        "                else:\n",
        "                    output_image[top + y, left + x] = sample[y, x]\n",
        "\n",
        "    # Convert the image from HSV to BGR for saving\n",
        "    output_image_bgr = cv2.cvtColor(output_image, cv2.COLOR_HSV2BGR)\n",
        "\n",
        "    output_file_path = os.path.join(output_dir, 'output_image_{}.jpg'.format(output_image_number))\n",
        "    cv2.imwrite(output_file_path, output_image_bgr)\n",
        "    output_image_number += 1\n",
        "\n",
        "print(\"Slit-scan effect images saved.\")\n"
      ],
      "metadata": {
        "colab": {
          "base_uri": "https://localhost:8080/",
          "height": 239
        },
        "id": "tTq6fIISor5I",
        "outputId": "b55ccca6-b562-40ba-d733-32f90b6edb3e"
      },
      "execution_count": null,
      "outputs": [
        {
          "output_type": "stream",
          "name": "stdout",
          "text": [
            "Drive already mounted at /content/drive; to attempt to forcibly remount, call drive.mount(\"/content/drive\", force_remount=True).\n"
          ]
        },
        {
          "output_type": "error",
          "ename": "KeyboardInterrupt",
          "evalue": "",
          "traceback": [
            "\u001b[0;31m---------------------------------------------------------------------------\u001b[0m",
            "\u001b[0;31mKeyboardInterrupt\u001b[0m                         Traceback (most recent call last)",
            "\u001b[0;32m<ipython-input-2-2a4f9733e7c0>\u001b[0m in \u001b[0;36m<cell line: 39>\u001b[0;34m()\u001b[0m\n\u001b[1;32m     60\u001b[0m \u001b[0;34m\u001b[0m\u001b[0m\n\u001b[1;32m     61\u001b[0m     \u001b[0moutput_file_path\u001b[0m \u001b[0;34m=\u001b[0m \u001b[0mos\u001b[0m\u001b[0;34m.\u001b[0m\u001b[0mpath\u001b[0m\u001b[0;34m.\u001b[0m\u001b[0mjoin\u001b[0m\u001b[0;34m(\u001b[0m\u001b[0moutput_dir\u001b[0m\u001b[0;34m,\u001b[0m \u001b[0;34m'output_image_{}.jpg'\u001b[0m\u001b[0;34m.\u001b[0m\u001b[0mformat\u001b[0m\u001b[0;34m(\u001b[0m\u001b[0moutput_image_number\u001b[0m\u001b[0;34m)\u001b[0m\u001b[0;34m)\u001b[0m\u001b[0;34m\u001b[0m\u001b[0;34m\u001b[0m\u001b[0m\n\u001b[0;32m---> 62\u001b[0;31m     \u001b[0mcv2\u001b[0m\u001b[0;34m.\u001b[0m\u001b[0mimwrite\u001b[0m\u001b[0;34m(\u001b[0m\u001b[0moutput_file_path\u001b[0m\u001b[0;34m,\u001b[0m \u001b[0moutput_image_bgr\u001b[0m\u001b[0;34m)\u001b[0m\u001b[0;34m\u001b[0m\u001b[0;34m\u001b[0m\u001b[0m\n\u001b[0m\u001b[1;32m     63\u001b[0m     \u001b[0moutput_image_number\u001b[0m \u001b[0;34m+=\u001b[0m \u001b[0;36m1\u001b[0m\u001b[0;34m\u001b[0m\u001b[0;34m\u001b[0m\u001b[0m\n\u001b[1;32m     64\u001b[0m \u001b[0;34m\u001b[0m\u001b[0m\n",
            "\u001b[0;31mKeyboardInterrupt\u001b[0m: "
          ]
        }
      ]
    },
    {
      "cell_type": "code",
      "source": [
        "from google.colab import drive\n",
        "import os\n",
        "import cv2\n",
        "import numpy as np\n",
        "\n",
        "# Googleドライブをマウント\n",
        "drive.mount('/content/drive')\n",
        "\n",
        "# 画像パスと出力ディレクトリの指定\n",
        "image_path = '/content/drive/MyDrive/slitscan_output_images/ffe07474f84daf4181dc7d9a6b12f849_t.jpeg'\n",
        "output_dir = '/content/drive/My Drive/slitscan_output_images/'\n",
        "\n",
        "# 出力ディレクトリが存在しない場合は作成\n",
        "if not os.path.exists(output_dir):\n",
        "    os.makedirs(output_dir)\n",
        "\n",
        "# 画像を読み込み\n",
        "image = cv2.imread(image_path)\n",
        "\n",
        "# 画像の幅と高さを取得\n",
        "height, width, _ = image.shape\n",
        "\n",
        "# 切り取り数の指定（例えば10分割）\n",
        "num_slices = 50\n",
        "slice_width = width // num_slices\n",
        "\n",
        "# 白い縦線の幅\n",
        "white_line_width = 30\n",
        "\n",
        "# 切り取った部分を格納するリスト\n",
        "sliced_images = []\n",
        "\n",
        "for i in range(num_slices):\n",
        "    # 画像の切り取り\n",
        "    slice = image[:, i*slice_width:(i+1)*slice_width]\n",
        "    sliced_images.append(slice)\n",
        "\n",
        "    # 各スライスの間に白い縦線を挿入（最後のスライスの後には追加しない）\n",
        "    if i < num_slices - 1:\n",
        "        white_line = np.ones((height, white_line_width, 3), dtype=np.uint8) * 255\n",
        "        sliced_images.append(white_line)\n",
        "\n",
        "# 切り取った部分と白い線を結合\n",
        "combined_image = np.hstack(sliced_images)\n",
        "\n",
        "# アスペクト比を維持するために高さをリサイズ\n",
        "final_height = height\n",
        "final_width = (slice_width + white_line_width) * num_slices - white_line_width\n",
        "\n",
        "# 画像をリサイズ\n",
        "resized_image = cv2.resize(combined_image, (final_width, final_height))\n",
        "\n",
        "# 結合した画像を保存\n",
        "output_path = os.path.join(output_dir, 'combined_image_with_white_lines2.jpg')\n",
        "cv2.imwrite(output_path, resized_image)\n",
        "\n",
        "print(f'Combined image with white lines saved at {output_path}')\n"
      ],
      "metadata": {
        "colab": {
          "base_uri": "https://localhost:8080/"
        },
        "id": "fZaiAVpJqSMe",
        "outputId": "a189bce0-d6e6-4705-cbce-31abbc9e64a9"
      },
      "execution_count": null,
      "outputs": [
        {
          "output_type": "stream",
          "name": "stdout",
          "text": [
            "Drive already mounted at /content/drive; to attempt to forcibly remount, call drive.mount(\"/content/drive\", force_remount=True).\n",
            "Combined image with white lines saved at /content/drive/My Drive/slitscan_output_images/combined_image_with_white_lines2.jpg\n"
          ]
        }
      ]
    },
    {
      "cell_type": "markdown",
      "source": [
        "アス比"
      ],
      "metadata": {
        "id": "876aCcGfAbx1"
      }
    },
    {
      "cell_type": "code",
      "source": [
        "from google.colab import drive\n",
        "import os\n",
        "import cv2\n",
        "import numpy as np\n",
        "\n",
        "drive.mount('/content/drive')\n",
        "image_path = '/content/drive/MyDrive/slitscan_output_images/istockphoto-984303464-612x612.jpg'\n",
        "output_dir = '/content/drive/My Drive/slitscan_output_images/'\n",
        "\n",
        "if not os.path.exists(output_dir):\n",
        "    os.makedirs(output_dir)\n",
        "image = cv2.imread(image_path)\n",
        "\n",
        "# 画像の幅と高さを取得\n",
        "height, width, _ = image.shape\n",
        "\n",
        "# 切り取り数の指定（例えば10分割）\n",
        "num_slices = 50\n",
        "slice_width = width // num_slices\n",
        "\n",
        "# 白い縦線の幅\n",
        "white_line_width = 10\n",
        "\n",
        "# 切り取った部分を格納するリスト\n",
        "sliced_images = []\n",
        "\n",
        "for i in range(num_slices):\n",
        "    # 画像の切り取り\n",
        "    slice = image[:, i*slice_width:(i+1)*slice_width]\n",
        "    sliced_images.append(slice)\n",
        "\n",
        "    # 各スライスの間に白い縦線を挿入（最後のスライスの後には追加しない）\n",
        "    if i < num_slices - 1:\n",
        "        white_line = np.ones((height, white_line_width, 3), dtype=np.uint8) * 255\n",
        "        sliced_images.append(white_line)\n",
        "\n",
        "# 切り取った部分と白い線を結合\n",
        "combined_image = np.hstack(sliced_images)\n",
        "\n",
        "# 最終的な画像の幅と高さを計算\n",
        "final_width = combined_image.shape[1]\n",
        "final_height = int(height * (final_width / width))\n",
        "\n",
        "# 画像を縦に引き伸ばす\n",
        "resized_image = cv2.resize(combined_image, (final_width, final_height))\n",
        "\n",
        "# 結合した画像を保存\n",
        "output_path = os.path.join(output_dir, 'realelefant.jpg')\n",
        "cv2.imwrite(output_path, resized_image)\n"
      ],
      "metadata": {
        "colab": {
          "base_uri": "https://localhost:8080/"
        },
        "id": "37uPVvGBAZmr",
        "outputId": "860713a0-27f0-46b7-830d-dbfadd54c111"
      },
      "execution_count": null,
      "outputs": [
        {
          "output_type": "stream",
          "name": "stdout",
          "text": [
            "Drive already mounted at /content/drive; to attempt to forcibly remount, call drive.mount(\"/content/drive\", force_remount=True).\n"
          ]
        },
        {
          "output_type": "execute_result",
          "data": {
            "text/plain": [
              "True"
            ]
          },
          "metadata": {},
          "execution_count": 3
        }
      ]
    },
    {
      "cell_type": "code",
      "source": [
        "from google.colab import drive\n",
        "drive.mount('/content/drive')"
      ],
      "metadata": {
        "colab": {
          "base_uri": "https://localhost:8080/"
        },
        "id": "nil6n9VWC_0E",
        "outputId": "c7fdaf5d-1064-4148-d81d-e9a435b01ac4"
      },
      "execution_count": null,
      "outputs": [
        {
          "output_type": "stream",
          "name": "stdout",
          "text": [
            "Drive already mounted at /content/drive; to attempt to forcibly remount, call drive.mount(\"/content/drive\", force_remount=True).\n"
          ]
        }
      ]
    },
    {
      "cell_type": "markdown",
      "source": [
        "動画保存"
      ],
      "metadata": {
        "id": "feTP1e-mfZgw"
      }
    },
    {
      "cell_type": "code",
      "source": [
        "import cv2\n",
        "import os\n",
        "from google.colab import drive\n",
        "drive.mount('/content/drive')\n",
        "input_dir = '/content/drive/My Drive/slitscan_output_images/'\n",
        "output_dir = '/content/drive/My Drive/slitscan_output_images/output_video/'\n",
        "\n",
        "if not os.path.exists(output_dir):\n",
        "    os.makedirs(output_dir)\n",
        "output_video_name = 'output_video.mp4'\n",
        "image_files = sorted(file for file in os.listdir(input_dir) if file.endswith('.jpg'))\n",
        "frame_width = 1920\n",
        "frame_height = 1080\n",
        "fps = 24\n",
        "fourcc = cv2.VideoWriter_fourcc(*'mp4v')\n",
        "out = cv2.VideoWriter(os.path.join(output_dir, output_video_name), fourcc, fps, (frame_width, frame_height))\n",
        "for image_file in image_files:\n",
        "    img_path = os.path.join(input_dir, image_file)\n",
        "    img = cv2.imread(img_path)\n",
        "    img = cv2.resize(img, (frame_width, frame_height))\n",
        "    out.write(img)\n",
        "out.release()\n",
        "\n",
        "print(\"動画が保存されました。\")\n"
      ],
      "metadata": {
        "colab": {
          "base_uri": "https://localhost:8080/"
        },
        "id": "dQxEeQsOfYro",
        "outputId": "70cb99f8-bd16-4903-9f80-485739353015"
      },
      "execution_count": null,
      "outputs": [
        {
          "output_type": "stream",
          "name": "stdout",
          "text": [
            "Drive already mounted at /content/drive; to attempt to forcibly remount, call drive.mount(\"/content/drive\", force_remount=True).\n",
            "動画が保存されました。\n"
          ]
        }
      ]
    },
    {
      "cell_type": "markdown",
      "source": [
        "Line"
      ],
      "metadata": {
        "id": "5lD3YvylEjXp"
      }
    },
    {
      "cell_type": "code",
      "source": [
        "from google.colab import drive\n",
        "drive.mount('/content/drive')\n",
        "\n",
        "import matplotlib.pyplot as plt\n",
        "import numpy as np\n",
        "import os\n",
        "import uuid\n",
        "\n",
        "save_directory = '/content/drive/MyDrive/I2T Recognition Dataset/Line'  # 必要に応じてパスを変更\n",
        "os.makedirs(save_directory, exist_ok=True)\n",
        "\n",
        "def generate_and_save_image():\n",
        "\n",
        "    plt.figure(figsize=(4, 4))\n",
        "\n",
        "    points = np.random.rand(10, 2) * 400\n",
        "\n",
        "    for i in range(len(points) - 1):\n",
        "        p1 = points[i]\n",
        "        p2 = points[i + 1]\n",
        "\n",
        "\n",
        "        cp1 = p1 + np.random.rand(2) * 100 - 50\n",
        "        cp2 = p2 + np.random.rand(2) * 100 - 50\n",
        "\n",
        "\n",
        "        t = np.linspace(0, 1, 100)\n",
        "        curve_x = (1 - t)**3 * p1[0] + \\\n",
        "                   3 * (1 - t)**2 * t * cp1[0] + \\\n",
        "                   3 * (1 - t) * t**2 * cp2[0] + \\\n",
        "                   t**3 * p2[0]\n",
        "\n",
        "        curve_y = (1 - t)**3 * p1[1] + \\\n",
        "                   3 * (1 - t)**2 * t * cp1[1] + \\\n",
        "                   3 * (1 - t) * t**2 * cp2[1] + \\\n",
        "                   t**3 * p2[1]\n",
        "\n",
        "        plt.plot(curve_x, curve_y, color='black', lw=5)\n",
        "\n",
        "    unique_id = uuid.uuid4()\n",
        "    file_name = f'image_{unique_id}.jpg'\n",
        "    plt.axis('off')\n",
        "    plt.savefig(os.path.join(save_directory, file_name), bbox_inches='tight', pad_inches=0)\n",
        "    plt.close()\n",
        "\n",
        "for _ in range(9300):\n",
        "    generate_and_save_image()"
      ],
      "metadata": {
        "colab": {
          "base_uri": "https://localhost:8080/"
        },
        "id": "dzvwyrf4EjBU",
        "outputId": "08ff071e-f293-4d28-c232-52ab92e45cf5"
      },
      "execution_count": null,
      "outputs": [
        {
          "output_type": "stream",
          "name": "stdout",
          "text": [
            "Drive already mounted at /content/drive; to attempt to forcibly remount, call drive.mount(\"/content/drive\", force_remount=True).\n"
          ]
        }
      ]
    }
  ]
}